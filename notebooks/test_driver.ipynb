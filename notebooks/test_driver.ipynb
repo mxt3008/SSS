{
 "cells": [
  {
   "cell_type": "code",
   "execution_count": null,
   "id": "15eba573",
   "metadata": {},
   "outputs": [
    {
     "name": "stdout",
     "output_type": "stream",
     "text": [
      "Z(f): [6.0, 6.0, 6.0, 6.0, 6.0]\n",
      "SPL(f): [85, 85, 85, 85, 85]\n"
     ]
    }
   ],
   "source": [
    "# notebooks/Driver_Test.ipynb\n",
    "\n",
    "# Permitir importar core/\n",
    "import sys\n",
    "sys.path.append('../core')\n",
    "\n",
    "from core.driver import Driver\n",
    "\n",
    "# Crear driver de prueba\n",
    "params = {\"Fs\": 40, \"Vas\": 50, \"Qts\": 0.4, \"Re\": 6.0}\n",
    "woofer = Driver(params)\n",
    "\n",
    "# Probar impedancia\n",
    "frequencies = [10, 20, 50, 100, 200]\n",
    "Z = [woofer.impedance(f) for f in frequencies]\n",
    "\n",
    "print(\"Z(f):\", Z)\n",
    "\n",
    "# Probar SPL\n",
    "SPL = [woofer.spl_response(f) for f in frequencies]\n",
    "\n",
    "print(\"SPL(f):\", SPL)"
   ]
  }
 ],
 "metadata": {
  "kernelspec": {
   "display_name": "venv",
   "language": "python",
   "name": "python3"
  },
  "language_info": {
   "codemirror_mode": {
    "name": "ipython",
    "version": 3
   },
   "file_extension": ".py",
   "mimetype": "text/x-python",
   "name": "python",
   "nbconvert_exporter": "python",
   "pygments_lexer": "ipython3",
   "version": "3.11.5"
  }
 },
 "nbformat": 4,
 "nbformat_minor": 5
}
