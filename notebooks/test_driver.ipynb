{
 "cells": [
  {
   "cell_type": "code",
   "execution_count": null,
   "id": "15eba573",
   "metadata": {},
   "outputs": [],
   "source": [
    "# notebooks/Driver_Test.ipynb\n",
    "\n",
    "# Permitir importar core/\n",
    "import sys\n",
    "sys.path.append('../core')\n",
    "\n",
    "from driver import Driver\n",
    "\n",
    "# Crear driver de prueba\n",
    "params = {\"Fs\": 40, \"Vas\": 50, \"Qts\": 0.4, \"Re\": 6.0}\n",
    "woofer = Driver(params)\n",
    "\n",
    "# Probar impedancia\n",
    "frequencies = [10, 20, 50, 100, 200]\n",
    "Z = [woofer.impedance(f) for f in frequencies]\n",
    "\n",
    "print(\"Z(f):\", Z)\n",
    "\n",
    "# Probar SPL\n",
    "SPL = [woofer.spl_response(f) for f in frequencies]\n",
    "\n",
    "print(\"SPL(f):\", SPL)"
   ]
  }
 ],
 "metadata": {
  "language_info": {
   "name": "python"
  }
 },
 "nbformat": 4,
 "nbformat_minor": 5
}
