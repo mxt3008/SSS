{
 "cells": [
  {
   "cell_type": "code",
   "execution_count": null,
   "id": "be24c17e",
   "metadata": {},
   "outputs": [],
   "source": [
    "print(\"Hola mundo desde mi notebook 🎉\")"
   ]
  },
  {
   "cell_type": "markdown",
   "id": "d15cb495",
   "metadata": {},
   "source": [
    "# Speaker Simulator Test\n",
    "Este notebook es una prueba para verificar que todo funciona."
   ]
  }
 ],
 "metadata": {
  "kernelspec": {
   "display_name": "venv",
   "language": "python",
   "name": "python3"
  },
  "language_info": {
   "name": "python",
   "version": "3.11.5"
  }
 },
 "nbformat": 4,
 "nbformat_minor": 5
}
